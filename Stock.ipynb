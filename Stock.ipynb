{
 "cells": [
  {
   "cell_type": "code",
   "execution_count": 4,
   "id": "b229cc10",
   "metadata": {},
   "outputs": [],
   "source": [
    "import numpy as np\n",
    "import pandas as pd\n",
    "import matplotlib.pyplot as plt\n",
    "import pandas_datareader as pdr\n",
    "import pandas_datareader.data as web\n",
    "import yfinance as yf"
   ]
  },
  {
   "cell_type": "code",
   "execution_count": 5,
   "id": "2bd01b20",
   "metadata": {},
   "outputs": [
    {
     "name": "stdout",
     "output_type": "stream",
     "text": [
      "[*********************100%***********************]  1 of 1 completed\n"
     ]
    },
    {
     "data": {
      "text/html": [
       "<div>\n",
       "<style scoped>\n",
       "    .dataframe tbody tr th:only-of-type {\n",
       "        vertical-align: middle;\n",
       "    }\n",
       "\n",
       "    .dataframe tbody tr th {\n",
       "        vertical-align: top;\n",
       "    }\n",
       "\n",
       "    .dataframe thead th {\n",
       "        text-align: right;\n",
       "    }\n",
       "</style>\n",
       "<table border=\"1\" class=\"dataframe\">\n",
       "  <thead>\n",
       "    <tr style=\"text-align: right;\">\n",
       "      <th></th>\n",
       "      <th>Open</th>\n",
       "      <th>High</th>\n",
       "      <th>Low</th>\n",
       "      <th>Close</th>\n",
       "      <th>Adj Close</th>\n",
       "      <th>Volume</th>\n",
       "    </tr>\n",
       "    <tr>\n",
       "      <th>Date</th>\n",
       "      <th></th>\n",
       "      <th></th>\n",
       "      <th></th>\n",
       "      <th></th>\n",
       "      <th></th>\n",
       "      <th></th>\n",
       "    </tr>\n",
       "  </thead>\n",
       "  <tbody>\n",
       "    <tr>\n",
       "      <th>2010-01-04</th>\n",
       "      <td>5200.899902</td>\n",
       "      <td>5238.450195</td>\n",
       "      <td>5167.100098</td>\n",
       "      <td>5232.200195</td>\n",
       "      <td>5232.200195</td>\n",
       "      <td>0</td>\n",
       "    </tr>\n",
       "    <tr>\n",
       "      <th>2010-01-05</th>\n",
       "      <td>5277.149902</td>\n",
       "      <td>5288.350098</td>\n",
       "      <td>5242.399902</td>\n",
       "      <td>5277.899902</td>\n",
       "      <td>5277.899902</td>\n",
       "      <td>0</td>\n",
       "    </tr>\n",
       "    <tr>\n",
       "      <th>2010-01-06</th>\n",
       "      <td>5278.149902</td>\n",
       "      <td>5310.850098</td>\n",
       "      <td>5260.049805</td>\n",
       "      <td>5281.799805</td>\n",
       "      <td>5281.799805</td>\n",
       "      <td>0</td>\n",
       "    </tr>\n",
       "    <tr>\n",
       "      <th>2010-01-07</th>\n",
       "      <td>5281.799805</td>\n",
       "      <td>5302.549805</td>\n",
       "      <td>5244.750000</td>\n",
       "      <td>5263.100098</td>\n",
       "      <td>5263.100098</td>\n",
       "      <td>0</td>\n",
       "    </tr>\n",
       "    <tr>\n",
       "      <th>2010-01-08</th>\n",
       "      <td>5264.250000</td>\n",
       "      <td>5276.750000</td>\n",
       "      <td>5234.700195</td>\n",
       "      <td>5244.750000</td>\n",
       "      <td>5244.750000</td>\n",
       "      <td>0</td>\n",
       "    </tr>\n",
       "  </tbody>\n",
       "</table>\n",
       "</div>"
      ],
      "text/plain": [
       "                   Open         High          Low        Close    Adj Close   \n",
       "Date                                                                          \n",
       "2010-01-04  5200.899902  5238.450195  5167.100098  5232.200195  5232.200195  \\\n",
       "2010-01-05  5277.149902  5288.350098  5242.399902  5277.899902  5277.899902   \n",
       "2010-01-06  5278.149902  5310.850098  5260.049805  5281.799805  5281.799805   \n",
       "2010-01-07  5281.799805  5302.549805  5244.750000  5263.100098  5263.100098   \n",
       "2010-01-08  5264.250000  5276.750000  5234.700195  5244.750000  5244.750000   \n",
       "\n",
       "            Volume  \n",
       "Date                \n",
       "2010-01-04       0  \n",
       "2010-01-05       0  \n",
       "2010-01-06       0  \n",
       "2010-01-07       0  \n",
       "2010-01-08       0  "
      ]
     },
     "execution_count": 5,
     "metadata": {},
     "output_type": "execute_result"
    }
   ],
   "source": [
    "start = '2010-01-01'\n",
    "end = '2023-05-18'\n",
    "df = yf.download(\"^NSEI\", start, end)\n",
    "df.head()"
   ]
  },
  {
   "cell_type": "code",
   "execution_count": 6,
   "id": "1f925fdc",
   "metadata": {},
   "outputs": [
    {
     "data": {
      "text/html": [
       "<div>\n",
       "<style scoped>\n",
       "    .dataframe tbody tr th:only-of-type {\n",
       "        vertical-align: middle;\n",
       "    }\n",
       "\n",
       "    .dataframe tbody tr th {\n",
       "        vertical-align: top;\n",
       "    }\n",
       "\n",
       "    .dataframe thead th {\n",
       "        text-align: right;\n",
       "    }\n",
       "</style>\n",
       "<table border=\"1\" class=\"dataframe\">\n",
       "  <thead>\n",
       "    <tr style=\"text-align: right;\">\n",
       "      <th></th>\n",
       "      <th>Open</th>\n",
       "      <th>High</th>\n",
       "      <th>Low</th>\n",
       "      <th>Close</th>\n",
       "      <th>Adj Close</th>\n",
       "      <th>Volume</th>\n",
       "    </tr>\n",
       "    <tr>\n",
       "      <th>Date</th>\n",
       "      <th></th>\n",
       "      <th></th>\n",
       "      <th></th>\n",
       "      <th></th>\n",
       "      <th></th>\n",
       "      <th></th>\n",
       "    </tr>\n",
       "  </thead>\n",
       "  <tbody>\n",
       "    <tr>\n",
       "      <th>2023-05-11</th>\n",
       "      <td>18357.800781</td>\n",
       "      <td>18389.699219</td>\n",
       "      <td>18270.400391</td>\n",
       "      <td>18297.000000</td>\n",
       "      <td>18297.000000</td>\n",
       "      <td>248900</td>\n",
       "    </tr>\n",
       "    <tr>\n",
       "      <th>2023-05-12</th>\n",
       "      <td>18273.750000</td>\n",
       "      <td>18342.750000</td>\n",
       "      <td>18194.550781</td>\n",
       "      <td>18314.800781</td>\n",
       "      <td>18314.800781</td>\n",
       "      <td>241700</td>\n",
       "    </tr>\n",
       "    <tr>\n",
       "      <th>2023-05-15</th>\n",
       "      <td>18339.300781</td>\n",
       "      <td>18458.900391</td>\n",
       "      <td>18287.900391</td>\n",
       "      <td>18398.849609</td>\n",
       "      <td>18398.849609</td>\n",
       "      <td>216100</td>\n",
       "    </tr>\n",
       "    <tr>\n",
       "      <th>2023-05-16</th>\n",
       "      <td>18432.349609</td>\n",
       "      <td>18432.349609</td>\n",
       "      <td>18264.349609</td>\n",
       "      <td>18286.500000</td>\n",
       "      <td>18286.500000</td>\n",
       "      <td>219500</td>\n",
       "    </tr>\n",
       "    <tr>\n",
       "      <th>2023-05-17</th>\n",
       "      <td>18300.449219</td>\n",
       "      <td>18309.000000</td>\n",
       "      <td>18115.349609</td>\n",
       "      <td>18181.750000</td>\n",
       "      <td>18181.750000</td>\n",
       "      <td>229900</td>\n",
       "    </tr>\n",
       "  </tbody>\n",
       "</table>\n",
       "</div>"
      ],
      "text/plain": [
       "                    Open          High           Low         Close   \n",
       "Date                                                                 \n",
       "2023-05-11  18357.800781  18389.699219  18270.400391  18297.000000  \\\n",
       "2023-05-12  18273.750000  18342.750000  18194.550781  18314.800781   \n",
       "2023-05-15  18339.300781  18458.900391  18287.900391  18398.849609   \n",
       "2023-05-16  18432.349609  18432.349609  18264.349609  18286.500000   \n",
       "2023-05-17  18300.449219  18309.000000  18115.349609  18181.750000   \n",
       "\n",
       "               Adj Close  Volume  \n",
       "Date                              \n",
       "2023-05-11  18297.000000  248900  \n",
       "2023-05-12  18314.800781  241700  \n",
       "2023-05-15  18398.849609  216100  \n",
       "2023-05-16  18286.500000  219500  \n",
       "2023-05-17  18181.750000  229900  "
      ]
     },
     "execution_count": 6,
     "metadata": {},
     "output_type": "execute_result"
    }
   ],
   "source": [
    "df.tail()"
   ]
  },
  {
   "cell_type": "code",
   "execution_count": 7,
   "id": "b9ea5278",
   "metadata": {},
   "outputs": [
    {
     "data": {
      "text/html": [
       "<div>\n",
       "<style scoped>\n",
       "    .dataframe tbody tr th:only-of-type {\n",
       "        vertical-align: middle;\n",
       "    }\n",
       "\n",
       "    .dataframe tbody tr th {\n",
       "        vertical-align: top;\n",
       "    }\n",
       "\n",
       "    .dataframe thead th {\n",
       "        text-align: right;\n",
       "    }\n",
       "</style>\n",
       "<table border=\"1\" class=\"dataframe\">\n",
       "  <thead>\n",
       "    <tr style=\"text-align: right;\">\n",
       "      <th></th>\n",
       "      <th>Date</th>\n",
       "      <th>Open</th>\n",
       "      <th>High</th>\n",
       "      <th>Low</th>\n",
       "      <th>Close</th>\n",
       "      <th>Adj Close</th>\n",
       "      <th>Volume</th>\n",
       "    </tr>\n",
       "  </thead>\n",
       "  <tbody>\n",
       "    <tr>\n",
       "      <th>0</th>\n",
       "      <td>2010-01-04</td>\n",
       "      <td>5200.899902</td>\n",
       "      <td>5238.450195</td>\n",
       "      <td>5167.100098</td>\n",
       "      <td>5232.200195</td>\n",
       "      <td>5232.200195</td>\n",
       "      <td>0</td>\n",
       "    </tr>\n",
       "    <tr>\n",
       "      <th>1</th>\n",
       "      <td>2010-01-05</td>\n",
       "      <td>5277.149902</td>\n",
       "      <td>5288.350098</td>\n",
       "      <td>5242.399902</td>\n",
       "      <td>5277.899902</td>\n",
       "      <td>5277.899902</td>\n",
       "      <td>0</td>\n",
       "    </tr>\n",
       "    <tr>\n",
       "      <th>2</th>\n",
       "      <td>2010-01-06</td>\n",
       "      <td>5278.149902</td>\n",
       "      <td>5310.850098</td>\n",
       "      <td>5260.049805</td>\n",
       "      <td>5281.799805</td>\n",
       "      <td>5281.799805</td>\n",
       "      <td>0</td>\n",
       "    </tr>\n",
       "    <tr>\n",
       "      <th>3</th>\n",
       "      <td>2010-01-07</td>\n",
       "      <td>5281.799805</td>\n",
       "      <td>5302.549805</td>\n",
       "      <td>5244.750000</td>\n",
       "      <td>5263.100098</td>\n",
       "      <td>5263.100098</td>\n",
       "      <td>0</td>\n",
       "    </tr>\n",
       "    <tr>\n",
       "      <th>4</th>\n",
       "      <td>2010-01-08</td>\n",
       "      <td>5264.250000</td>\n",
       "      <td>5276.750000</td>\n",
       "      <td>5234.700195</td>\n",
       "      <td>5244.750000</td>\n",
       "      <td>5244.750000</td>\n",
       "      <td>0</td>\n",
       "    </tr>\n",
       "  </tbody>\n",
       "</table>\n",
       "</div>"
      ],
      "text/plain": [
       "        Date         Open         High          Low        Close    Adj Close   \n",
       "0 2010-01-04  5200.899902  5238.450195  5167.100098  5232.200195  5232.200195  \\\n",
       "1 2010-01-05  5277.149902  5288.350098  5242.399902  5277.899902  5277.899902   \n",
       "2 2010-01-06  5278.149902  5310.850098  5260.049805  5281.799805  5281.799805   \n",
       "3 2010-01-07  5281.799805  5302.549805  5244.750000  5263.100098  5263.100098   \n",
       "4 2010-01-08  5264.250000  5276.750000  5234.700195  5244.750000  5244.750000   \n",
       "\n",
       "   Volume  \n",
       "0       0  \n",
       "1       0  \n",
       "2       0  \n",
       "3       0  \n",
       "4       0  "
      ]
     },
     "execution_count": 7,
     "metadata": {},
     "output_type": "execute_result"
    }
   ],
   "source": [
    "df = df.reset_index()\n",
    "df.head()"
   ]
  },
  {
   "cell_type": "code",
   "execution_count": 8,
   "id": "48b2d5fc",
   "metadata": {},
   "outputs": [
    {
     "data": {
      "text/html": [
       "<div>\n",
       "<style scoped>\n",
       "    .dataframe tbody tr th:only-of-type {\n",
       "        vertical-align: middle;\n",
       "    }\n",
       "\n",
       "    .dataframe tbody tr th {\n",
       "        vertical-align: top;\n",
       "    }\n",
       "\n",
       "    .dataframe thead th {\n",
       "        text-align: right;\n",
       "    }\n",
       "</style>\n",
       "<table border=\"1\" class=\"dataframe\">\n",
       "  <thead>\n",
       "    <tr style=\"text-align: right;\">\n",
       "      <th></th>\n",
       "      <th>Open</th>\n",
       "      <th>High</th>\n",
       "      <th>Low</th>\n",
       "      <th>Close</th>\n",
       "      <th>Volume</th>\n",
       "    </tr>\n",
       "  </thead>\n",
       "  <tbody>\n",
       "    <tr>\n",
       "      <th>0</th>\n",
       "      <td>5200.899902</td>\n",
       "      <td>5238.450195</td>\n",
       "      <td>5167.100098</td>\n",
       "      <td>5232.200195</td>\n",
       "      <td>0</td>\n",
       "    </tr>\n",
       "    <tr>\n",
       "      <th>1</th>\n",
       "      <td>5277.149902</td>\n",
       "      <td>5288.350098</td>\n",
       "      <td>5242.399902</td>\n",
       "      <td>5277.899902</td>\n",
       "      <td>0</td>\n",
       "    </tr>\n",
       "    <tr>\n",
       "      <th>2</th>\n",
       "      <td>5278.149902</td>\n",
       "      <td>5310.850098</td>\n",
       "      <td>5260.049805</td>\n",
       "      <td>5281.799805</td>\n",
       "      <td>0</td>\n",
       "    </tr>\n",
       "    <tr>\n",
       "      <th>3</th>\n",
       "      <td>5281.799805</td>\n",
       "      <td>5302.549805</td>\n",
       "      <td>5244.750000</td>\n",
       "      <td>5263.100098</td>\n",
       "      <td>0</td>\n",
       "    </tr>\n",
       "    <tr>\n",
       "      <th>4</th>\n",
       "      <td>5264.250000</td>\n",
       "      <td>5276.750000</td>\n",
       "      <td>5234.700195</td>\n",
       "      <td>5244.750000</td>\n",
       "      <td>0</td>\n",
       "    </tr>\n",
       "  </tbody>\n",
       "</table>\n",
       "</div>"
      ],
      "text/plain": [
       "          Open         High          Low        Close  Volume\n",
       "0  5200.899902  5238.450195  5167.100098  5232.200195       0\n",
       "1  5277.149902  5288.350098  5242.399902  5277.899902       0\n",
       "2  5278.149902  5310.850098  5260.049805  5281.799805       0\n",
       "3  5281.799805  5302.549805  5244.750000  5263.100098       0\n",
       "4  5264.250000  5276.750000  5234.700195  5244.750000       0"
      ]
     },
     "execution_count": 8,
     "metadata": {},
     "output_type": "execute_result"
    }
   ],
   "source": [
    "df = df.drop(['Date', 'Adj Close'], axis = 1)   ##Dropping unwanted cols\n",
    "df.head()"
   ]
  },
  {
   "cell_type": "code",
   "execution_count": 9,
   "id": "1960708d",
   "metadata": {},
   "outputs": [
    {
     "data": {
      "text/plain": [
       "[<matplotlib.lines.Line2D at 0x1f435ff04d0>]"
      ]
     },
     "execution_count": 9,
     "metadata": {},
     "output_type": "execute_result"
    },
    {
     "data": {
      "image/png": "[encoded data removed]",
      "text/plain": [
       "<Figure size 1200x600 with 1 Axes>"
      ]
     },
     "metadata": {},
     "output_type": "display_data"
    }
   ],
   "source": [
    "plt.figure(figsize = (12, 6))\n",
    "plt.plot(df.Close)"
   ]
  },
  {
   "cell_type": "code",
   "execution_count": 10,
   "id": "dd851043",
   "metadata": {},
   "outputs": [
    {
     "data": {
      "text/plain": [
       "(3280, 5)"
      ]
     },
     "execution_count": 10,
     "metadata": {},
     "output_type": "execute_result"
    }
   ],
   "source": [
    "df.shape"
   ]
  },
  {
   "cell_type": "code",
   "execution_count": 11,
   "id": "efaae477",
   "metadata": {},
   "outputs": [],
   "source": [
    "data_training = pd.DataFrame(df['Close'][0:int(len(df)*0.80)])\n",
    "\n",
    "data_testing = pd.DataFrame(df['Close'][int(len(df)*0.80): int(len(df))])"
   ]
  },
  {
   "cell_type": "code",
   "execution_count": 12,
   "id": "80167b71",
   "metadata": {},
   "outputs": [
    {
     "name": "stdout",
     "output_type": "stream",
     "text": [
      "(2624, 1)\n",
      "(656, 1)\n"
     ]
    },
    {
     "data": {
      "text/plain": [
       "(None, None)"
      ]
     },
     "execution_count": 12,
     "metadata": {},
     "output_type": "execute_result"
    }
   ],
   "source": [
    "print(data_training.shape), print(data_testing.shape)"
   ]
  },
  {
   "cell_type": "code",
   "execution_count": 29,
   "id": "66e8e89c",
   "metadata": {},
   "outputs": [],
   "source": [
    "from sklearn.preprocessing import MinMaxScaler\n",
    "scaler = MinMaxScaler(feature_range = (0,1))"
   ]
  },
  {
   "cell_type": "code",
   "execution_count": 30,
   "id": "21b31ed8",
   "metadata": {},
   "outputs": [],
   "source": [
    "data_training_array = scaler.fit_transform(data_training)"
   ]
  },
  {
   "cell_type": "code",
   "execution_count": 44,
   "id": "b95a4037",
   "metadata": {},
   "outputs": [],
   "source": [
    "x_train = []\n",
    "y_train = []\n",
    "\n",
    "for i in range(100, data_training_array.shape[0]):\n",
    "    x_train.append(data_training_array[i-100: i])\n",
    "    y_train.append(data_training_array[i, 0])\n",
    "    \n",
    "x_train, y_train = np.array(x_train), np.array(y_train)"
   ]
  },
  {
   "cell_type": "code",
   "execution_count": 45,
   "id": "6591ba9b",
   "metadata": {},
   "outputs": [],
   "source": [
    "past_100_days = data_training.tail(100)"
   ]
  },
  {
   "cell_type": "code",
   "execution_count": 46,
   "id": "be0d15fd",
   "metadata": {},
   "outputs": [],
   "source": [
    "final_df = pd.concat([past_100_days, data_testing])"
   ]
  },
  {
   "cell_type": "code",
   "execution_count": 47,
   "id": "a9c16580",
   "metadata": {},
   "outputs": [],
   "source": [
    "input_data = scaler.fit_transform(final_df)"
   ]
  },
  {
   "cell_type": "code",
   "execution_count": 48,
   "id": "1d6576a9",
   "metadata": {},
   "outputs": [],
   "source": [
    "x_test = []\n",
    "y_test = []\n",
    "\n",
    "test_data = df['Close']\n",
    "test_data_array = test_data.to_numpy()\n",
    "test_data_array = scaler.fit_transform(test_data_array.reshape(-1,1))\n",
    "\n",
    "for i in range(100, test_data_array.shape[0]):\n",
    "    x_test.append(test_data_array[i-100: i])\n",
    "    y_test.append(test_data_array[i])"
   ]
  },
  {
   "cell_type": "code",
   "execution_count": 49,
   "id": "5a5b5d4b",
   "metadata": {},
   "outputs": [],
   "source": [
    "x_test, y_test = np.array(x_test), np.array(y_test)"
   ]
  },
  {
   "cell_type": "code",
   "execution_count": 51,
   "id": "ae8c5b00",
   "metadata": {},
   "outputs": [],
   "source": [
    "from tensorflow import keras\n",
    "from keras.layers import Dense, Dropout, LSTM\n",
    "from keras.models import Sequential\n",
    "from tensorflow.keras.callbacks import EarlyStopping"
   ]
  },
  {
   "cell_type": "code",
   "execution_count": 52,
   "id": "bc5c42bd",
   "metadata": {},
   "outputs": [],
   "source": [
    "model = Sequential()\n",
    "model.add(LSTM(units = 100, activation = 'relu', return_sequences = True, input_shape = (x_train.shape[1], 1)))\n",
    "model.add(Dropout(0.2)) \n",
    "\n",
    "model.add(LSTM(units = 67, activation = 'relu', return_sequences = True))\n",
    "model.add(Dropout(0.3))\n",
    "\n",
    "model.add(LSTM(units = 45, activation = 'relu', return_sequences = True))\n",
    "model.add(Dropout(0.4))\n",
    "\n",
    "model.add(LSTM(units = 29, activation = 'relu'))\n",
    "model.add(Dropout(0.5))\n",
    "\n",
    "model.add(Dense(units = 1))"
   ]
  },
  {
   "cell_type": "code",
   "execution_count": 53,
   "id": "6850aeac",
   "metadata": {},
   "outputs": [
    {
     "name": "stdout",
     "output_type": "stream",
     "text": [
      "Epoch 1/50\n",
      "79/79 [==============================] - 29s 272ms/step - loss: 0.1297 - val_loss: 0.0050\n",
      "Epoch 2/50\n",
      "79/79 [==============================] - 19s 245ms/step - loss: 0.0280 - val_loss: 0.0075\n",
      "Epoch 3/50\n",
      "79/79 [==============================] - 20s 252ms/step - loss: 0.0230 - val_loss: 0.0058\n",
      "Epoch 4/50\n",
      "79/79 [==============================] - 21s 267ms/step - loss: 0.0190 - val_loss: 0.0024\n",
      "Epoch 5/50\n",
      "79/79 [==============================] - 20s 260ms/step - loss: 0.0183 - val_loss: 0.0033\n",
      "Epoch 6/50\n",
      "79/79 [==============================] - 20s 257ms/step - loss: 0.0156 - val_loss: 0.0031\n",
      "Epoch 7/50\n",
      "79/79 [==============================] - 20s 253ms/step - loss: 0.0149 - val_loss: 0.0025\n",
      "Epoch 8/50\n",
      "79/79 [==============================] - 20s 257ms/step - loss: 0.0139 - val_loss: 0.0033\n",
      "Epoch 9/50\n",
      "79/79 [==============================] - 21s 263ms/step - loss: 0.0129 - val_loss: 0.0032\n",
      "Epoch 10/50\n",
      "79/79 [==============================] - 20s 260ms/step - loss: 0.0126 - val_loss: 0.0027\n",
      "Epoch 11/50\n",
      "79/79 [==============================] - 21s 261ms/step - loss: 0.0120 - val_loss: 0.0023\n",
      "Epoch 12/50\n",
      "79/79 [==============================] - 21s 263ms/step - loss: 0.0104 - val_loss: 0.0038\n",
      "Epoch 13/50\n",
      "79/79 [==============================] - 21s 262ms/step - loss: 0.0112 - val_loss: 0.0034\n",
      "Epoch 14/50\n",
      "79/79 [==============================] - 19s 245ms/step - loss: 0.0096 - val_loss: 0.0021\n",
      "Epoch 15/50\n",
      "79/79 [==============================] - 20s 256ms/step - loss: 0.0091 - val_loss: 0.0016\n",
      "Epoch 16/50\n",
      "79/79 [==============================] - 20s 253ms/step - loss: 0.0098 - val_loss: 0.0013\n",
      "Epoch 17/50\n",
      "79/79 [==============================] - 20s 257ms/step - loss: 0.0092 - val_loss: 0.0014\n",
      "Epoch 18/50\n",
      "79/79 [==============================] - 19s 244ms/step - loss: 0.0088 - val_loss: 0.0019\n",
      "Epoch 19/50\n",
      "79/79 [==============================] - 19s 245ms/step - loss: 0.0085 - val_loss: 0.0020\n",
      "Epoch 20/50\n",
      "79/79 [==============================] - 19s 241ms/step - loss: 0.0086 - val_loss: 0.0019\n",
      "Epoch 21/50\n",
      "79/79 [==============================] - 19s 248ms/step - loss: 0.0090 - val_loss: 0.0023\n",
      "Epoch 22/50\n",
      "79/79 [==============================] - 21s 267ms/step - loss: 0.0077 - val_loss: 0.0025\n",
      "Epoch 23/50\n",
      "79/79 [==============================] - 20s 251ms/step - loss: 0.0075 - val_loss: 0.0025\n",
      "Epoch 24/50\n",
      "79/79 [==============================] - 19s 243ms/step - loss: 0.0074 - val_loss: 0.0020\n",
      "Epoch 25/50\n",
      "79/79 [==============================] - 19s 245ms/step - loss: 0.0073 - val_loss: 0.0016\n",
      "Epoch 26/50\n",
      "79/79 [==============================] - 19s 243ms/step - loss: 0.0079 - val_loss: 0.0019\n",
      "Epoch 27/50\n",
      "79/79 [==============================] - 19s 242ms/step - loss: 0.0079 - val_loss: 9.4759e-04\n",
      "Epoch 28/50\n",
      "79/79 [==============================] - 19s 244ms/step - loss: 0.0073 - val_loss: 0.0010\n",
      "Epoch 28: early stopping\n"
     ]
    },
    {
     "data": {
      "text/plain": [
       "<keras.callbacks.History at 0x1f4556e78d0>"
      ]
     },
     "execution_count": 53,
     "metadata": {},
     "output_type": "execute_result"
    }
   ],
   "source": [
    "early_stop = EarlyStopping(monitor = \"loss\", verbose = 1, mode = 'min', patience = 3)\n",
    "\n",
    "model.compile(optimizer = 'adam', loss = 'mean_squared_error')\n",
    "\n",
    "model.fit(x_train, y_train, epochs = 50, validation_data = (x_test,y_test), callbacks=[early_stop])"
   ]
  },
  {
   "cell_type": "code",
   "execution_count": 54,
   "id": "c9ad4732",
   "metadata": {},
   "outputs": [
    {
     "data": {
      "text/plain": [
       "[<matplotlib.lines.Line2D at 0x1f4659e6c90>]"
      ]
     },
     "execution_count": 54,
     "metadata": {},
     "output_type": "execute_result"
    },
    {
     "data": {
      "image/png": "[encoded data removed]",
      "text/plain": [
       "<Figure size 640x480 with 1 Axes>"
      ]
     },
     "metadata": {},
     "output_type": "display_data"
    }
   ],
   "source": [
    "loss = model.history.history['loss']\n",
    "plt.plot(loss)"
   ]
  },
  {
   "cell_type": "code",
   "execution_count": 55,
   "id": "9bf36b8a",
   "metadata": {},
   "outputs": [
    {
     "name": "stdout",
     "output_type": "stream",
     "text": [
      "100/100 [==============================] - 7s 57ms/step\n"
     ]
    }
   ],
   "source": [
    "y_predicted = model.predict(x_test)"
   ]
  },
  {
   "cell_type": "code",
   "execution_count": 56,
   "id": "66c88dc5",
   "metadata": {},
   "outputs": [
    {
     "data": {
      "text/plain": [
       "(3180, 1)"
      ]
     },
     "execution_count": 56,
     "metadata": {},
     "output_type": "execute_result"
    }
   ],
   "source": [
    "y_predicted.shape"
   ]
  },
  {
   "cell_type": "code",
   "execution_count": 57,
   "id": "2702fbdd",
   "metadata": {},
   "outputs": [
    {
     "data": {
      "text/plain": [
       "array([[0.0298564 ],\n",
       "       [0.03333613],\n",
       "       [0.03968937],\n",
       "       ...,\n",
       "       [0.97100913],\n",
       "       [0.96313506],\n",
       "       [0.95579361]])"
      ]
     },
     "execution_count": 57,
     "metadata": {},
     "output_type": "execute_result"
    }
   ],
   "source": [
    "y_test"
   ]
  },
  {
   "cell_type": "code",
   "execution_count": 58,
   "id": "5213c5cd",
   "metadata": {},
   "outputs": [
    {
     "data": {
      "text/plain": [
       "array([[0.0716691 ],\n",
       "       [0.07131949],\n",
       "       [0.07109204],\n",
       "       ...,\n",
       "       [0.8907019 ],\n",
       "       [0.8928508 ],\n",
       "       [0.89497465]], dtype=float32)"
      ]
     },
     "execution_count": 58,
     "metadata": {},
     "output_type": "execute_result"
    }
   ],
   "source": [
    "y_predicted"
   ]
  },
  {
   "cell_type": "code",
   "execution_count": 59,
   "id": "7c0cde3c",
   "metadata": {},
   "outputs": [],
   "source": [
    "y_predicted = scaler.inverse_transform(y_predicted)\n",
    "y_test = scaler.inverse_transform(y_test)"
   ]
  },
  {
   "cell_type": "code",
   "execution_count": 60,
   "id": "ed738271",
   "metadata": {},
   "outputs": [
    {
     "data": {
      "image/png": "[encoded data removed]",
      "text/plain": [
       "<Figure size 1200x600 with 1 Axes>"
      ]
     },
     "metadata": {},
     "output_type": "display_data"
    }
   ],
   "source": [
    "plt.figure(figsize = (12,6))\n",
    "plt.plot(y_test, 'b', label = 'Original Prcice')\n",
    "plt.plot(y_predicted, 'r', label = 'Predicted Price')\n",
    "plt.xlabel('Time')\n",
    "plt.ylabel('Price')\n",
    "plt.legend()\n",
    "plt.show()"
   ]
  },
  {
   "cell_type": "code",
   "execution_count": 61,
   "id": "afd27770",
   "metadata": {},
   "outputs": [
    {
     "data": {
      "text/plain": [
       "((2524, 100, 1), (3180, 1))"
      ]
     },
     "execution_count": 61,
     "metadata": {},
     "output_type": "execute_result"
    }
   ],
   "source": [
    "x_train.shape , y_test.shape"
   ]
  },
  {
   "cell_type": "code",
   "execution_count": 62,
   "id": "12d79382",
   "metadata": {},
   "outputs": [],
   "source": [
    "a = data_testing.tail(100)\n",
    "a_array = scaler.fit_transform(a)\n",
    "fut_inp = a_array.reshape(1,-1)\n",
    "tmp_inp = list(fut_inp[0])"
   ]
  },
  {
   "cell_type": "code",
   "execution_count": 63,
   "id": "414b82c1",
   "metadata": {},
   "outputs": [
    {
     "data": {
      "text/plain": [
       "100"
      ]
     },
     "execution_count": 63,
     "metadata": {},
     "output_type": "execute_result"
    }
   ],
   "source": [
    "len(tmp_inp)"
   ]
  },
  {
   "cell_type": "code",
   "execution_count": 64,
   "id": "70ac3982",
   "metadata": {},
   "outputs": [
    {
     "name": "stdout",
     "output_type": "stream",
     "text": [
      "[0.7373536825180054, [0.7591480016708374], [0.7773979902267456], [0.790926992893219], [0.7992825508117676], [0.8025964498519897], [0.8015568256378174], [0.7970331907272339], [0.7901301383972168], [0.7820041179656982], [0.7736138105392456], [0.76566481590271], [0.7585576772689819], [0.7524389028549194], [0.747344970703125], [0.7432126998901367], [0.7399167418479919], [0.7372957468032837], [0.735180139541626], [0.7334115505218506], [0.731856107711792], [0.7304096221923828], [0.7289987802505493], [0.7275773286819458], [0.7261220216751099], [0.7246257662773132], [0.723092794418335], [0.7215331792831421], [0.7199594974517822], [0.7183840274810791], [0.7168170213699341]]\n"
     ]
    }
   ],
   "source": [
    "lst_output = list()\n",
    "n_steps = 100\n",
    "i = 0\n",
    "while(i<31): \n",
    "    if(len(tmp_inp) > 100):\n",
    "        fut_inp = np.array(tmp_inp[1:])\n",
    "        fut_inp = fut_inp.reshape(1,-1)\n",
    "        fut_inp = fut_inp.reshape((1, n_steps, 1))\n",
    "        yhat = model.predict(fut_inp, verbose = 0)\n",
    "        tmp_inp.extend(yhat[0].tolist())\n",
    "        tmp_inp = tmp_inp[1:]\n",
    "        lst_output.extend(yhat.tolist())\n",
    "        i=i+1\n",
    "    else:\n",
    "        fut_inp = fut_inp.reshape((1, n_steps, 1))\n",
    "        yhat = model.predict(fut_inp,verbose=0)\n",
    "        tmp_inp.extend(yhat[0].tolist())\n",
    "        lst_output.extend(yhat[0].tolist())\n",
    "        i=i+1\n",
    "        \n",
    "print(lst_output)"
   ]
  },
  {
   "cell_type": "code",
   "execution_count": 65,
   "id": "2ee92433",
   "metadata": {},
   "outputs": [
    {
     "data": {
      "text/plain": [
       "31"
      ]
     },
     "execution_count": 65,
     "metadata": {},
     "output_type": "execute_result"
    }
   ],
   "source": [
    "len(lst_output)"
   ]
  },
  {
   "cell_type": "code",
   "execution_count": 66,
   "id": "f1c62952",
   "metadata": {},
   "outputs": [],
   "source": [
    "final_output = []"
   ]
  },
  {
   "cell_type": "code",
   "execution_count": 67,
   "id": "36fd4586",
   "metadata": {},
   "outputs": [],
   "source": [
    "for i in range(1,31) :\n",
    "    final_output.append(lst_output[i][0])"
   ]
  },
  {
   "cell_type": "code",
   "execution_count": 68,
   "id": "9cd835df",
   "metadata": {},
   "outputs": [],
   "source": [
    "final_output2 = np.array(final_output)"
   ]
  },
  {
   "cell_type": "code",
   "execution_count": 69,
   "id": "ac2ad32d",
   "metadata": {},
   "outputs": [],
   "source": [
    "final_output2 = final_output2.reshape(-1,1)"
   ]
  },
  {
   "cell_type": "code",
   "execution_count": 70,
   "id": "836796da",
   "metadata": {},
   "outputs": [
    {
     "data": {
      "text/plain": [
       "(30, 1)"
      ]
     },
     "execution_count": 70,
     "metadata": {},
     "output_type": "execute_result"
    }
   ],
   "source": [
    "final_output2.shape"
   ]
  },
  {
   "cell_type": "code",
   "execution_count": 71,
   "id": "8a496d22",
   "metadata": {},
   "outputs": [],
   "source": [
    "final_output3 = scaler.inverse_transform(final_output2)"
   ]
  },
  {
   "cell_type": "code",
   "execution_count": 72,
   "id": "59e1e86f",
   "metadata": {},
   "outputs": [
    {
     "data": {
      "text/plain": [
       "[<matplotlib.lines.Line2D at 0x1f465b35990>]"
      ]
     },
     "execution_count": 72,
     "metadata": {},
     "output_type": "execute_result"
    },
    {
     "data": {
      "image/png": "[encoded data removed]",
      "text/plain": [
       "<Figure size 1200x600 with 1 Axes>"
      ]
     },
     "metadata": {},
     "output_type": "display_data"
    }
   ],
   "source": [
    "plt.figure(figsize = (12,6))\n",
    "plt.plot(final_output3, 'b', label = 'Original Prcice')"
   ]
  },
  {
   "cell_type": "code",
   "execution_count": 73,
   "id": "2ddc4d91",
   "metadata": {},
   "outputs": [
    {
     "name": "stdout",
     "output_type": "stream",
     "text": [
      "R2 Score:  0.9866676539351716\n",
      "MAE:  355.0725788620283\n"
     ]
    }
   ],
   "source": [
    "from sklearn.metrics import mean_squared_error, r2_score, mean_absolute_error\n",
    "print('R2 Score: ', r2_score(y_test, y_predicted))\n",
    "print('MAE: ', mean_absolute_error(y_test, y_predicted))"
   ]
  },
  {
   "cell_type": "code",
   "execution_count": null,
   "id": "dcd20c2d",
   "metadata": {},
   "outputs": [],
   "source": []
  }
 ],
 "metadata": {
  "kernelspec": {
   "display_name": "Python 3 (ipykernel)",
   "language": "python",
   "name": "python3"
  },
  "language_info": {
   "codemirror_mode": {
    "name": "ipython",
    "version": 3
   },
   "file_extension": ".py",
   "mimetype": "text/x-python",
   "name": "python",
   "nbconvert_exporter": "python",
   "pygments_lexer": "ipython3",
   "version": "3.11.3"
  }
 },
 "nbformat": 4,
 "nbformat_minor": 5
}
